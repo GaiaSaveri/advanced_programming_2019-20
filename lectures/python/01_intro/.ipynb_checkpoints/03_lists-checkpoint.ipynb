{
 "cells": [
  {
   "cell_type": "markdown",
   "metadata": {},
   "source": [
    "## Lists\n",
    " - mutable\n",
    " - resizable\n",
    " - stored objects can change\n",
    " - object can be of different type"
   ]
  },
  {
   "cell_type": "code",
   "execution_count": 1,
   "metadata": {},
   "outputs": [
    {
     "name": "stdout",
     "output_type": "stream",
     "text": [
      "[1, 'string', 4.5]\n",
      "[1, True, 4.5]\n"
     ]
    }
   ],
   "source": [
    "l = [] #empty list\n",
    "#brackets are associated tp the lists\n",
    "l.append(1)\n",
    "l.append(\"string\")\n",
    "l.append(4.5)\n",
    "#no need to contain homogeneous objects\n",
    "print(l) #python knows how to print everything\n",
    "l[1] = True #cahnge the second element\n",
    "print(l)"
   ]
  },
  {
   "cell_type": "markdown",
   "metadata": {},
   "source": [
    "### `list()`\n",
    "- lists can be constructed with the `list()` command"
   ]
  },
  {
   "cell_type": "code",
   "execution_count": 2,
   "metadata": {},
   "outputs": [
    {
     "name": "stdout",
     "output_type": "stream",
     "text": [
      "empty_list: []\n",
      "<class 'type'>\n",
      "list_from_range: [0, 1, 2, 3, 4, 5, 6, 7, 8, 9]\n",
      "list_from_string: ['h', 'e', 'l', 'l', 'o', ' ', 'w', 'o', 'r', 'l', 'd']\n"
     ]
    }
   ],
   "source": [
    "empty_list = list() #like calling the ctor of list\n",
    "print(\"empty_list:\", empty_list)\n",
    "list_from_range = list(range(10)) #thing about the concepts of iterators\n",
    "#ranges are objects that do that stuff\n",
    "#in range the last is always not included\n",
    "#type(range)=class range\n",
    "#we can construct a list passing a container\n",
    "print(\"list_from_range:\", list_from_range)\n",
    "list_from_string = list(\"hello world\") #string are iterables\n",
    "#a list can be constructed from everythig that is iterable\n",
    "print(\"list_from_string:\", list_from_string)"
   ]
  },
  {
   "cell_type": "markdown",
   "metadata": {},
   "source": [
    "### slicing\n",
    " - `list[start:stop:step]` note that `[start:stop)`\n",
    " - if omitted `start==0`\n",
    " - if `stop` is omitted means till last element **included**\n",
    " - if omitetted `step==1`"
   ]
  },
  {
   "cell_type": "code",
   "execution_count": 4,
   "metadata": {},
   "outputs": [
    {
     "name": "stdout",
     "output_type": "stream",
     "text": [
      "[0, 1, 2]\n",
      "[0, 1, 2]\n",
      "[0, 1, 2, 3, 4, 5, 6, 7, 8]\n",
      "[1, 2, 3, 4, 5, 6, 7, 8, 9]\n"
     ]
    }
   ],
   "source": [
    "#access different elements inside the list\n",
    "print(list_from_range[0:3:1]) # print first 3 elements\n",
    "#start:stop:step, stop is always not included\n",
    "print(list_from_range[:3]) #if omitted start is always 0\n",
    "print(list_from_range[:-1]) # last element is excluded\n",
    "#if stop is omitted it goes till the end\n",
    "print(list_from_range[1:])"
   ]
  },
  {
   "cell_type": "markdown",
   "metadata": {},
   "source": [
    "### len\n",
    " - the size of a list is returned by the `len` command\n"
   ]
  },
  {
   "cell_type": "code",
   "execution_count": 5,
   "metadata": {},
   "outputs": [
    {
     "name": "stdout",
     "output_type": "stream",
     "text": [
      "10\n"
     ]
    }
   ],
   "source": [
    "print(len(list_from_range))\n",
    "#here the interpreter will call list_from_range.__len__()\n",
    "#specific to the object\n",
    "#but providing a useful generalization"
   ]
  },
  {
   "cell_type": "markdown",
   "metadata": {},
   "source": [
    "### \\+ and \\*\n",
    " - they always return new objects\n",
    " - if you want to modify in place use the augmented assignments `+=`, `*=`,...\n",
    " "
   ]
  },
  {
   "cell_type": "code",
   "execution_count": 6,
   "metadata": {},
   "outputs": [
    {
     "name": "stdout",
     "output_type": "stream",
     "text": [
      "[0, 1, 2, 3, 4, 5, 6, 7, 8, 9, 'h', 'e', 'l', 'l', 'o', ' ', 'w', 'o', 'r', 'l', 'd']\n",
      "[0, 1, 2, 3, 4, 5, 6, 7, 8, 9]\n",
      "[1, True, 4.5, 1, True, 4.5, 1, True, 4.5]\n",
      "[1, True, 4.5]\n"
     ]
    }
   ],
   "source": [
    "#combine lists using + and *\n",
    "print(list_from_range + list_from_string)\n",
    "print(list_from_range)\n",
    "\n",
    "print(l*3) #repeat a list a number of times\n",
    "#+ merge two or more lists\n",
    "print(l)\n",
    "#those operators do not modify the data structure\n",
    "#they return a new element"
   ]
  },
  {
   "cell_type": "markdown",
   "metadata": {},
   "source": [
    "### Pay attention to lists of lists"
   ]
  },
  {
   "cell_type": "code",
   "execution_count": 7,
   "metadata": {},
   "outputs": [
    {
     "name": "stdout",
     "output_type": "stream",
     "text": [
      "[['_', '_', '_'], ['_', '_', '_'], ['_', '_', '_']]\n",
      "[['_', 'X', '_'], ['_', 'X', '_'], ['_', 'X', '_']]\n"
     ]
    }
   ],
   "source": [
    "board = [['_']*3]*3\n",
    "#we want a 3x3 board\n",
    "print(board)\n",
    "board[1][1] = 'X' #X apperas in all the 3 lists\n",
    "#python tries to do the cheapest thing\n",
    "print(board)"
   ]
  },
  {
   "cell_type": "markdown",
   "metadata": {},
   "source": [
    "### List comprehensions (aka listcomps)\n",
    " - more readable\n",
    " - inside `[ ]` indentation does not matter and new lines are allowed"
   ]
  },
  {
   "cell_type": "code",
   "execution_count": null,
   "metadata": {},
   "outputs": [],
   "source": [
    "#list comprehension is a concise way to create\n",
    "#lists\n",
    "#consists of brackets [] containing an expression\n",
    "#followed by a for clause\n",
    "#then zero or more if clauses\n",
    "#the result will be a new list resulting from\n",
    "#evaluating the expression in []"
   ]
  },
  {
   "cell_type": "code",
   "execution_count": 8,
   "metadata": {},
   "outputs": [
    {
     "name": "stdout",
     "output_type": "stream",
     "text": [
      "[['_', '_', '_'], ['_', '_', '_'], ['_', '_', '_']]\n",
      "[['_', '_', '_'], ['_', 'X', '_'], ['_', '_', '_']]\n"
     ]
    }
   ],
   "source": [
    "board = [['_']*3 for i in range(3)] #safer way to initialize complicated lists\n",
    "print(board)\n",
    "#in this way all the \"rows\" are independent\n",
    "board[1][1] = 'X'\n",
    "print(board)"
   ]
  },
  {
   "cell_type": "code",
   "execution_count": 3,
   "metadata": {},
   "outputs": [
    {
     "name": "stdout",
     "output_type": "stream",
     "text": [
      "odd_numbers [1, 3, 5, 7, 9, 11, 13, 15, 17, 19]\n",
      "even_numbers [0, 2, 4, 6, 8, 10, 12, 14, 16, 18]\n"
     ]
    }
   ],
   "source": [
    "odd_numbers = [n for n in range(20) if n%2] #n%2 answers the question \"are there error?\"\n",
    "print (\"odd_numbers\",odd_numbers)\n",
    "even_numbers = [n for n in range(20) if not n%2]\n",
    "print(\"even_numbers\",even_numbers)"
   ]
  },
  {
   "cell_type": "markdown",
   "metadata": {},
   "source": [
    "### `sort` vs. `sorted`\n",
    " - `sorted` returns **new object** \n",
    " - `sort` does it **in place**"
   ]
  },
  {
   "cell_type": "code",
   "execution_count": 9,
   "metadata": {},
   "outputs": [
    {
     "name": "stdout",
     "output_type": "stream",
     "text": [
      "sorted(l) [1, 2, 4, 5, 10]\n",
      "l [5, 10, 1, 4, 2]\n",
      "l after l.sort() [1, 2, 4, 5, 10]\n"
     ]
    }
   ],
   "source": [
    "l = [5,10,1,4,2]\n",
    "print(\"sorted(l)\",sorted(l))  #new list but sorted\n",
    "print(\"l\",l)\n",
    "l.sort() #modify in place\n",
    "print(\"l after l.sort()\", l)"
   ]
  },
  {
   "cell_type": "code",
   "execution_count": 31,
   "metadata": {},
   "outputs": [
    {
     "name": "stdout",
     "output_type": "stream",
     "text": [
      "['a', 'a', 'c', 'c', 'c']\n",
      "['a', 'c']\n"
     ]
    }
   ],
   "source": [
    "#TEST\n",
    "l1 = sorted(list(\"cacca\"))\n",
    "#l2 = sorted(l1)\n",
    "print(l1)\n",
    "l2 = list({x for x in l2})\n",
    "#l3 = list(set)\n",
    "print(l2)"
   ]
  },
  {
   "cell_type": "markdown",
   "metadata": {},
   "source": [
    "### delete items\n",
    " - `del list[idx]` remove element with offset `idx`. `del` is a Python statement\n",
    " - `list.pop[idx]` remove element with offset `idx` and return it\n",
    " - `list.remove(val)` remove element whose value is val "
   ]
  },
  {
   "cell_type": "code",
   "execution_count": 34,
   "metadata": {},
   "outputs": [
    {
     "name": "stdout",
     "output_type": "stream",
     "text": [
      "l [0, 1, 2, 3, 4]\n",
      "l [0, 2, 3, 4]\n",
      "l [0, 2, 3]\n",
      "a 4\n",
      "l [0, 3]\n",
      "['e', 'l', 'l', 'o', 'w', 'o', 'r', 'l', 'd']\n"
     ]
    }
   ],
   "source": [
    "l = list(range(5))\n",
    "print(\"l\",l)\n",
    "del l[1] # delete second element --> in place\n",
    "print(\"l\",l)\n",
    "a = l.pop(-1) # pop last element --> return deleted element\n",
    "print(\"l\", l)\n",
    "print(\"a\",a)\n",
    "l.remove(2) #look for an element\n",
    "print(\"l\",l)"
   ]
  },
  {
   "cell_type": "markdown",
   "metadata": {},
   "source": [
    "### Iterability"
   ]
  },
  {
   "cell_type": "code",
   "execution_count": null,
   "metadata": {},
   "outputs": [],
   "source": [
    "for x in l:\n",
    "    print(x) \n",
    "    \n",
    "#like the range for loop in c++"
   ]
  }
 ],
 "metadata": {
  "kernelspec": {
   "display_name": "Python 3",
   "language": "python",
   "name": "python3"
  },
  "language_info": {
   "codemirror_mode": {
    "name": "ipython",
    "version": 3
   },
   "file_extension": ".py",
   "mimetype": "text/x-python",
   "name": "python",
   "nbconvert_exporter": "python",
   "pygments_lexer": "ipython3",
   "version": "3.7.4"
  }
 },
 "nbformat": 4,
 "nbformat_minor": 4
}
