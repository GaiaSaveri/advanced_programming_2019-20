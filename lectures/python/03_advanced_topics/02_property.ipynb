{
 "cells": [
  {
   "cell_type": "markdown",
   "metadata": {},
   "source": [
    "##  Property\n",
    "- make an attribute **constant** (read only)\n",
    "- perform specific actions (e.g., error checking, pre/post-conditions) when an attribute is **set** "
   ]
  },
  {
   "cell_type": "markdown",
   "metadata": {},
   "source": [
    "###  const"
   ]
  },
  {
   "cell_type": "code",
   "execution_count": 1,
   "metadata": {},
   "outputs": [
    {
     "name": "stdout",
     "output_type": "stream",
     "text": [
      "0 4\n"
     ]
    }
   ],
   "source": [
    "class Point():\n",
    "    def __init__(self, x,y):\n",
    "        self.x = x\n",
    "        self.y = y\n",
    "\n",
    "    # other methods are omitted\n",
    "\n",
    "def use_point(p):\n",
    "    # complicated stuff\n",
    "    p.x = 0 # bug, I would like to have p.x, p.y const\n",
    "\n",
    "p = Point(3,4)\n",
    "\n",
    "use_point(p)\n",
    "\n",
    "print(p.x, p.y) #read only\n",
    "#however in python everythong is public\n",
    "#if we write p._x=something is perfectly legal\n"
   ]
  },
  {
   "cell_type": "code",
   "execution_count": 4,
   "metadata": {},
   "outputs": [
    {
     "name": "stdout",
     "output_type": "stream",
     "text": [
      "0 4\n"
     ]
    }
   ],
   "source": [
    "class Point():\n",
    "    def __init__(self, x,y):\n",
    "        self._x = x\n",
    "        self._y = y\n",
    "#proprerty is a decorator that allows a variable\n",
    "#to behave like constant\n",
    "#and to overload the operator = \n",
    "    @property\n",
    "    def x(self):\n",
    "        return self._x\n",
    "\n",
    "    @property\n",
    "    def y(self):\n",
    "        return self._y\n",
    "#now variables can be accessed but not changed\n",
    "#can only be changed with the original name\n",
    "#such as p._x=sth\n",
    "    # other methods are omitted\n",
    "\n",
    "def use_point(p):\n",
    "    # complicated stuff\n",
    "    p.x = 0 # I expect an error\n",
    "\n",
    "p = Point(3,4)\n",
    "\n",
    "use_point(p)\n",
    "\n",
    "print(p.x, p.y)\n"
   ]
  },
  {
   "cell_type": "markdown",
   "metadata": {},
   "source": [
    "### Perform some checks"
   ]
  },
  {
   "cell_type": "code",
   "execution_count": 3,
   "metadata": {},
   "outputs": [
    {
     "name": "stdout",
     "output_type": "stream",
     "text": [
      "5\n",
      "validating date...Done\n"
     ]
    }
   ],
   "source": [
    "class Date():\n",
    "    def __init__(self, day,month,year):\n",
    "        self._day = day\n",
    "        self._month = month\n",
    "        self._year = year\n",
    "        #convention that private members have _ in front\n",
    "    \n",
    "    def check_validity(self,day,month,year):\n",
    "        #we want to inforce the call of this function every time a date is modified\n",
    "        # should check if the date is valid\n",
    "        print('validating date...', end='')\n",
    "        # what should I do if the date is not good?\n",
    "        print('Done')\n",
    "    \n",
    "    @property\n",
    "    #saying that day is a property we achieve this\n",
    "    def day(self):\n",
    "        return self._day\n",
    "    \n",
    "    @day.setter\n",
    "    def day(self, new_day):\n",
    "        self.check_validity(new_day, self._month, self._year) \n",
    "        #first we check the validity of the new date\n",
    "        self._day=new_day #if it is fine we change\n",
    "    #here the point is to do sth when we change\n",
    "    #same story that the public interface in c++\n",
    "\n",
    "d = Date(5,8,1986)\n",
    "\n",
    "print(d.day)\n",
    "d.day = 67 #here we call the setter"
   ]
  },
  {
   "cell_type": "code",
   "execution_count": 4,
   "metadata": {},
   "outputs": [
    {
     "name": "stdout",
     "output_type": "stream",
     "text": [
      "Help on class property in module builtins:\n",
      "\n",
      "class property(object)\n",
      " |  property(fget=None, fset=None, fdel=None, doc=None)\n",
      " |  \n",
      " |  Property attribute.\n",
      " |  \n",
      " |    fget\n",
      " |      function to be used for getting an attribute value\n",
      " |    fset\n",
      " |      function to be used for setting an attribute value\n",
      " |    fdel\n",
      " |      function to be used for del'ing an attribute\n",
      " |    doc\n",
      " |      docstring\n",
      " |  \n",
      " |  Typical use is to define a managed attribute x:\n",
      " |  \n",
      " |  class C(object):\n",
      " |      def getx(self): return self._x\n",
      " |      def setx(self, value): self._x = value\n",
      " |      def delx(self): del self._x\n",
      " |      x = property(getx, setx, delx, \"I'm the 'x' property.\")\n",
      " |  \n",
      " |  Decorators make defining new properties or modifying existing ones easy:\n",
      " |  \n",
      " |  class C(object):\n",
      " |      @property\n",
      " |      def x(self):\n",
      " |          \"I am the 'x' property.\"\n",
      " |          return self._x\n",
      " |      @x.setter\n",
      " |      def x(self, value):\n",
      " |          self._x = value\n",
      " |      @x.deleter\n",
      " |      def x(self):\n",
      " |          del self._x\n",
      " |  \n",
      " |  Methods defined here:\n",
      " |  \n",
      " |  __delete__(self, instance, /)\n",
      " |      Delete an attribute of instance.\n",
      " |  \n",
      " |  __get__(self, instance, owner, /)\n",
      " |      Return an attribute of instance, which is of type owner.\n",
      " |  \n",
      " |  __getattribute__(self, name, /)\n",
      " |      Return getattr(self, name).\n",
      " |  \n",
      " |  __init__(self, /, *args, **kwargs)\n",
      " |      Initialize self.  See help(type(self)) for accurate signature.\n",
      " |  \n",
      " |  __set__(self, instance, value, /)\n",
      " |      Set an attribute of instance to value.\n",
      " |  \n",
      " |  deleter(...)\n",
      " |      Descriptor to change the deleter on a property.\n",
      " |  \n",
      " |  getter(...)\n",
      " |      Descriptor to change the getter on a property.\n",
      " |  \n",
      " |  setter(...)\n",
      " |      Descriptor to change the setter on a property.\n",
      " |  \n",
      " |  ----------------------------------------------------------------------\n",
      " |  Static methods defined here:\n",
      " |  \n",
      " |  __new__(*args, **kwargs) from builtins.type\n",
      " |      Create and return a new object.  See help(type) for accurate signature.\n",
      " |  \n",
      " |  ----------------------------------------------------------------------\n",
      " |  Data descriptors defined here:\n",
      " |  \n",
      " |  __isabstractmethod__\n",
      " |  \n",
      " |  fdel\n",
      " |  \n",
      " |  fget\n",
      " |  \n",
      " |  fset\n",
      "\n"
     ]
    }
   ],
   "source": [
    "help(property)\n",
    "#object is default in Python2"
   ]
  }
 ],
 "metadata": {
  "kernelspec": {
   "display_name": "Python 3",
   "language": "python",
   "name": "python3"
  },
  "language_info": {
   "codemirror_mode": {
    "name": "ipython",
    "version": 3
   },
   "file_extension": ".py",
   "mimetype": "text/x-python",
   "name": "python",
   "nbconvert_exporter": "python",
   "pygments_lexer": "ipython3",
   "version": "3.7.4"
  }
 },
 "nbformat": 4,
 "nbformat_minor": 4
}
