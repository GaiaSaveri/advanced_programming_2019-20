{
 "cells": [
  {
   "cell_type": "markdown",
   "metadata": {},
   "source": [
    "##  Unit-testing\n",
    "- `unittest`\n",
    "- `if __name__ == '__main__':` \n",
    "a file is called main if we execute a python file\n",
    "if we import we don't want to do execute the unit-testing\n",
    "- `__all__`\n",
    "- RTFM https://docs.python.org/3/library/unittest.html"
   ]
  },
  {
   "cell_type": "markdown",
   "metadata": {},
   "source": [
    " - take a look at file `my_module.py`\n",
    " - `python3 my_module.py`\n",
    " - `pyhton3 my_module.py -v`\n",
    " "
   ]
  },
  {
   "cell_type": "code",
   "execution_count": null,
   "metadata": {},
   "outputs": [],
   "source": [
    "#the module unit test provides utilities for unit testing\n",
    "#to define the test to perform we define a class\n",
    "#that inherits from unittest.TestCase\n",
    "#and each member function become a unit test to be done"
   ]
  }
 ],
 "metadata": {
  "kernelspec": {
   "display_name": "Python 3",
   "language": "python",
   "name": "python3"
  },
  "language_info": {
   "codemirror_mode": {
    "name": "ipython",
    "version": 3
   },
   "file_extension": ".py",
   "mimetype": "text/x-python",
   "name": "python",
   "nbconvert_exporter": "python",
   "pygments_lexer": "ipython3",
   "version": "3.7.4"
  }
 },
 "nbformat": 4,
 "nbformat_minor": 4
}
