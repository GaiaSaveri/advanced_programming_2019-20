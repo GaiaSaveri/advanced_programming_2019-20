{
 "cells": [
  {
   "cell_type": "markdown",
   "metadata": {},
   "source": [
    "### modules are just `.py` files (with python code)"
   ]
  },
  {
   "cell_type": "code",
   "execution_count": 1,
   "metadata": {},
   "outputs": [
    {
     "name": "stdout",
     "output_type": "stream",
     "text": [
      "def foo():\r\n",
      "    print('Fooing')\r\n",
      "\r\n",
      "def bar():\r\n",
      "    print('Barring')\r\n"
     ]
    }
   ],
   "source": [
    "#modules can be imported into other source files\n",
    "#to use their definitions\n",
    "!cat my_module.py"
   ]
  },
  {
   "cell_type": "code",
   "execution_count": 2,
   "metadata": {},
   "outputs": [
    {
     "name": "stdout",
     "output_type": "stream",
     "text": [
      "Fooing\n",
      "Barring\n"
     ]
    }
   ],
   "source": [
    "%reset -f #restart the kernel (magic)\n",
    "import my_module\n",
    "#load the module and create a kind of namespace\n",
    "my_module.foo()\n",
    "my_module.bar()\n",
    "# foo() # error"
   ]
  },
  {
   "cell_type": "code",
   "execution_count": 10,
   "metadata": {},
   "outputs": [
    {
     "name": "stdout",
     "output_type": "stream",
     "text": [
      "Fooing\n"
     ]
    }
   ],
   "source": [
    "%reset -f\n",
    "from my_module import foo\n",
    "foo()\n",
    "# bar() # error, not defined"
   ]
  },
  {
   "cell_type": "code",
   "execution_count": null,
   "metadata": {
    "collapsed": true,
    "jupyter": {
     "outputs_hidden": true
    }
   },
   "outputs": [],
   "source": [
    "%reset -f\n",
    "import my_module as mm #alias of the namespace\n",
    "mm.foo()\n",
    "mm.bar()"
   ]
  },
  {
   "cell_type": "code",
   "execution_count": null,
   "metadata": {
    "collapsed": true,
    "jupyter": {
     "outputs_hidden": true
    }
   },
   "outputs": [],
   "source": [
    "%reset -f\n",
    "from my_module import * \n",
    "#import everything in a module\n",
    "foo()\n",
    "bar()"
   ]
  },
  {
   "cell_type": "code",
   "execution_count": 7,
   "metadata": {},
   "outputs": [
    {
     "name": "stdout",
     "output_type": "stream",
     "text": [
      "Fooing\n"
     ]
    }
   ],
   "source": [
    "%reset -f\n",
    "from my_module import foo as alternative_name_for_foo\n",
    "alternative_name_for_foo()"
   ]
  },
  {
   "cell_type": "markdown",
   "metadata": {},
   "source": [
    "### where are the python modules?"
   ]
  },
  {
   "cell_type": "code",
   "execution_count": 3,
   "metadata": {},
   "outputs": [
    {
     "name": "stdout",
     "output_type": "stream",
     "text": [
      "['/home/giai/Desktop/advanced_programming_2019-20/lectures/python/02_variables_and_functions', '/home/giai/miniconda3/lib/python37.zip', '/home/giai/miniconda3/lib/python3.7', '/home/giai/miniconda3/lib/python3.7/lib-dynload', '', '/home/giai/.local/lib/python3.7/site-packages', '/home/giai/miniconda3/lib/python3.7/site-packages', '/home/giai/miniconda3/lib/python3.7/site-packages/IPython/extensions', '/home/giai/.ipython']\n"
     ]
    }
   ],
   "source": [
    "import sys\n",
    "print(sys.path)\n",
    "#in order to now where python is looking\n",
    "#for modules to import\n",
    "#'' --> looking in the current directory\n",
    "\n",
    "\n",
    "\n",
    "#when we run a script a _pycache directory is\n",
    "#created to keep track of imported modules\n",
    "#so if they are imported again no search is needed\n",
    "\n",
    "#improve the import time"
   ]
  },
  {
   "cell_type": "markdown",
   "metadata": {},
   "source": [
    "### more modules can be added through the environment variable `PYTHONPATH`"
   ]
  },
  {
   "cell_type": "markdown",
   "metadata": {},
   "source": [
    "## How can I organize modules? Packages"
   ]
  },
  {
   "cell_type": "code",
   "execution_count": 5,
   "metadata": {},
   "outputs": [
    {
     "name": "stdout",
     "output_type": "stream",
     "text": [
      "\u001b[01;34mmy_package/\u001b[00m\n",
      "├── bar_module.py\n",
      "├── \u001b[01;34mcostantino\u001b[00m\n",
      "│   ├── costa.py\n",
      "│   └── __init__.py\n",
      "├── foo_module.py\n",
      "├── __init__.py\n",
      "└── \u001b[01;34m__pycache__\u001b[00m\n",
      "    ├── bar_module.cpython-37.pyc\n",
      "    ├── foo_module.cpython-37.pyc\n",
      "    └── __init__.cpython-37.pyc\n",
      "\n",
      "2 directories, 8 files\n"
     ]
    }
   ],
   "source": [
    "!tree my_package/\n",
    "#package is a collecion of modules\n",
    "#used to organize modules\n",
    "#if we have a _init_.py in a folder\n",
    "#that folder will name a package"
   ]
  },
  {
   "cell_type": "markdown",
   "metadata": {},
   "source": [
    "### do not import packages!!!!"
   ]
  },
  {
   "cell_type": "code",
   "execution_count": 2,
   "metadata": {},
   "outputs": [
    {
     "name": "stdout",
     "output_type": "stream",
     "text": [
      "Fooing from a package\n",
      "Barring from a package\n"
     ]
    }
   ],
   "source": [
    "%reset -f\n",
    "#packages are nice to organize modules\n",
    "#but you cannot import packages\n",
    "#always import modules\n",
    "import my_package.foo_module # import submodule\n",
    "import my_package.bar_module\n",
    "my_package.foo_module.foo()\n",
    "my_package.bar_module.bar()"
   ]
  },
  {
   "cell_type": "code",
   "execution_count": null,
   "metadata": {
    "collapsed": true,
    "jupyter": {
     "outputs_hidden": true
    }
   },
   "outputs": [],
   "source": [
    "%reset -f\n",
    "from my_package import foo_module,bar_module\n",
    "foo_module.foo()\n",
    "bar_module.bar()"
   ]
  },
  {
   "cell_type": "code",
   "execution_count": null,
   "metadata": {
    "collapsed": true,
    "jupyter": {
     "outputs_hidden": true
    }
   },
   "outputs": [],
   "source": [
    "%reset -f\n",
    "from my_package import *\n",
    "foo_module.foo()\n",
    "bar_module.bar()"
   ]
  },
  {
   "cell_type": "code",
   "execution_count": 4,
   "metadata": {},
   "outputs": [
    {
     "name": "stdout",
     "output_type": "stream",
     "text": [
      "Fooing from a package\n"
     ]
    }
   ],
   "source": [
    "%reset -f\n",
    "from my_package.foo_module import *\n",
    "foo()"
   ]
  },
  {
   "cell_type": "code",
   "execution_count": 3,
   "metadata": {},
   "outputs": [
    {
     "name": "stdout",
     "output_type": "stream",
     "text": [
      "Fooing from a package\n",
      "Barring from a package\n"
     ]
    }
   ],
   "source": [
    "%reset -f\n",
    "from my_package import foo_module as  f #alias\n",
    "from my_package import bar_module as  b\n",
    "f.foo()\n",
    "b.bar()"
   ]
  },
  {
   "cell_type": "markdown",
   "metadata": {},
   "source": [
    "### Examples taken from math  course"
   ]
  },
  {
   "cell_type": "code",
   "execution_count": 11,
   "metadata": {},
   "outputs": [],
   "source": [
    "import matplotlib.pyplot as plt\n",
    "from IPython.display import Image"
   ]
  },
  {
   "cell_type": "code",
   "execution_count": 12,
   "metadata": {},
   "outputs": [],
   "source": [
    "import scipy.linalg as la"
   ]
  },
  {
   "cell_type": "code",
   "execution_count": 13,
   "metadata": {},
   "outputs": [],
   "source": [
    "from scipy.special import jn, yn, jn_zeros, yn_zeros"
   ]
  }
 ],
 "metadata": {
  "kernelspec": {
   "display_name": "Python 3",
   "language": "python",
   "name": "python3"
  },
  "language_info": {
   "codemirror_mode": {
    "name": "ipython",
    "version": 3
   },
   "file_extension": ".py",
   "mimetype": "text/x-python",
   "name": "python",
   "nbconvert_exporter": "python",
   "pygments_lexer": "ipython3",
   "version": "3.7.4"
  }
 },
 "nbformat": 4,
 "nbformat_minor": 4
}
