{
 "cells": [
  {
   "cell_type": "markdown",
   "metadata": {},
   "source": [
    "### Shallow is the default"
   ]
  },
  {
   "cell_type": "code",
   "execution_count": 38,
   "metadata": {},
   "outputs": [],
   "source": [
    "l = [1,2,[4,5,6], 8]\n",
    "o = l\n"
   ]
  },
  {
   "cell_type": "code",
   "execution_count": 39,
   "metadata": {},
   "outputs": [
    {
     "data": {
      "text/plain": [
       "True"
      ]
     },
     "execution_count": 39,
     "metadata": {},
     "output_type": "execute_result"
    }
   ],
   "source": [
    "o == l"
   ]
  },
  {
   "cell_type": "code",
   "execution_count": 40,
   "metadata": {},
   "outputs": [
    {
     "data": {
      "text/plain": [
       "True"
      ]
     },
     "execution_count": 40,
     "metadata": {},
     "output_type": "execute_result"
    }
   ],
   "source": [
    "o is l\n",
    "#is calls id in both objects"
   ]
  },
  {
   "cell_type": "code",
   "execution_count": 41,
   "metadata": {},
   "outputs": [
    {
     "data": {
      "text/plain": [
       "(140711992516768, 140711992516768)"
      ]
     },
     "execution_count": 41,
     "metadata": {},
     "output_type": "execute_result"
    }
   ],
   "source": [
    "id(o), id(l)"
   ]
  },
  {
   "cell_type": "code",
   "execution_count": 42,
   "metadata": {},
   "outputs": [
    {
     "name": "stdout",
     "output_type": "stream",
     "text": [
      "[1, 2, [4, 5, 6], 8]\n"
     ]
    }
   ],
   "source": [
    "o = list(l)\n",
    "print(o)"
   ]
  },
  {
   "cell_type": "code",
   "execution_count": 43,
   "metadata": {},
   "outputs": [
    {
     "data": {
      "text/plain": [
       "True"
      ]
     },
     "execution_count": 43,
     "metadata": {},
     "output_type": "execute_result"
    }
   ],
   "source": [
    "o == l"
   ]
  },
  {
   "cell_type": "code",
   "execution_count": 44,
   "metadata": {},
   "outputs": [
    {
     "data": {
      "text/plain": [
       "False"
      ]
     },
     "execution_count": 44,
     "metadata": {},
     "output_type": "execute_result"
    }
   ],
   "source": [
    "o is l\n",
    "#False --> with list() a new object is created"
   ]
  },
  {
   "cell_type": "code",
   "execution_count": 45,
   "metadata": {},
   "outputs": [
    {
     "name": "stdout",
     "output_type": "stream",
     "text": [
      "[1, 2, [4, 5, 6], 8, 9]\n",
      "[1, 2, [4, 5, 6], 8]\n"
     ]
    }
   ],
   "source": [
    "l.append(9)\n",
    "#we can separetely modify the two lists\n",
    "print(l)\n",
    "print(o)"
   ]
  },
  {
   "cell_type": "code",
   "execution_count": 46,
   "metadata": {},
   "outputs": [
    {
     "name": "stdout",
     "output_type": "stream",
     "text": [
      "[1, 2, [4, 5, 6, 7], 8, 9]\n",
      "[1, 2, [4, 5, 6, 7], 8]\n",
      "[1, 3, [4, 5, 6, 7], 9]\n",
      "[1, 2, [4, 5, 6, 7], 8]\n"
     ]
    }
   ],
   "source": [
    "l[2].append(7)\n",
    "print(l)\n",
    "print(o)\n",
    "#iterable objects are tricky!\n",
    "l[1]=3 #just in l\n",
    "l.remove(8) #just in l\n",
    "print(l)\n",
    "print(o)\n",
    "#shallow copy!"
   ]
  },
  {
   "cell_type": "code",
   "execution_count": 13,
   "metadata": {},
   "outputs": [],
   "source": [
    "import copy"
   ]
  },
  {
   "cell_type": "code",
   "execution_count": 14,
   "metadata": {},
   "outputs": [
    {
     "name": "stdout",
     "output_type": "stream",
     "text": [
      "[1, 2, [4, 5, 6, 7, 888], 8, 9]\n",
      "[1, 2, [4, 5, 6, 7, 888], 8, 9]\n"
     ]
    }
   ],
   "source": [
    "o = copy.copy(l)\n",
    "l[2].append(888)\n",
    "print(l)\n",
    "print(o)\n",
    "#also with module copy we obtained a shallow copy\n",
    "#shallow copy of elements of the list"
   ]
  },
  {
   "cell_type": "code",
   "execution_count": 15,
   "metadata": {},
   "outputs": [
    {
     "name": "stdout",
     "output_type": "stream",
     "text": [
      "[1, 2, [4, 5, 6, 7, 888, 3333], 8, 9]\n",
      "[1, 2, [4, 5, 6, 7, 888], 8, 9]\n"
     ]
    }
   ],
   "source": [
    "o = copy.deepcopy(l)\n",
    "l[2].append(3333)\n",
    "print(l)\n",
    "print(o)"
   ]
  },
  {
   "cell_type": "code",
   "execution_count": 16,
   "metadata": {},
   "outputs": [
    {
     "name": "stdout",
     "output_type": "stream",
     "text": [
      "[1, 2, [4, 5, 6, 7, 888, 3333], 8, 9, 99]\n"
     ]
    }
   ],
   "source": [
    "def augmented(ll):\n",
    "    ll+=[99]\n",
    "augmented(l)\n",
    "print(l)"
   ]
  },
  {
   "cell_type": "code",
   "execution_count": 17,
   "metadata": {},
   "outputs": [
    {
     "name": "stdout",
     "output_type": "stream",
     "text": [
      "[1, 2, [4, 5, 6, 7, 888, 3333], 8, 9, 99]\n"
     ]
    }
   ],
   "source": [
    "def assignment(ll):\n",
    "    ll = [99]\n",
    "assignment(l)\n",
    "print(l)"
   ]
  }
 ],
 "metadata": {
  "kernelspec": {
   "display_name": "Python 3",
   "language": "python",
   "name": "python3"
  },
  "language_info": {
   "codemirror_mode": {
    "name": "ipython",
    "version": 3
   },
   "file_extension": ".py",
   "mimetype": "text/x-python",
   "name": "python",
   "nbconvert_exporter": "python",
   "pygments_lexer": "ipython3",
   "version": "3.7.4"
  }
 },
 "nbformat": 4,
 "nbformat_minor": 4
}
