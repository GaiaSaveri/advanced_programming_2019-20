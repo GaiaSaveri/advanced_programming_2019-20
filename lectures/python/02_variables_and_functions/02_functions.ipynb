{
 "cells": [
  {
   "cell_type": "markdown",
   "metadata": {},
   "source": [
    "###  functions are first-class objects\n",
    "First-class object is a program entity that can be:\n",
    "- created at runtime\n",
    "- assigned to a variable or element in a data structure\n",
    "- passed as an argument to a function\n",
    "- returned as the result of a function"
   ]
  },
  {
   "cell_type": "code",
   "execution_count": 1,
   "metadata": {},
   "outputs": [
    {
     "name": "stdout",
     "output_type": "stream",
     "text": [
      "<class 'function'>\n",
      "hello\n"
     ]
    }
   ],
   "source": [
    "#in c++ functions are functions and objects are objects\n",
    "#in python everything is a object\n",
    "def hello():\n",
    "    print(\"hello\")\n",
    "#python knows that the function is over when it is not indented anymore\n",
    "#sticky note hello put somewhere where the function hello is defined\n",
    "print(type(hello)) #object of type function\n",
    "\n",
    "a = hello #now the sticky note of a is in the same place of the sticky note hello\n",
    "a() #and so now a is callable"
   ]
  },
  {
   "cell_type": "markdown",
   "metadata": {},
   "source": [
    "### functions can use recursion"
   ]
  },
  {
   "cell_type": "code",
   "execution_count": 1,
   "metadata": {},
   "outputs": [
    {
     "data": {
      "text/plain": [
       "24"
      ]
     },
     "execution_count": 1,
     "metadata": {},
     "output_type": "execute_result"
    }
   ],
   "source": [
    "def factorial(n):\n",
    "    return 1 if n<2 else n * factorial(n-1)\n",
    "\n",
    "factorial(4)"
   ]
  },
  {
   "cell_type": "markdown",
   "metadata": {},
   "source": [
    "### args name in functions can be used as `keyword`"
   ]
  },
  {
   "cell_type": "code",
   "execution_count": 4,
   "metadata": {},
   "outputs": [
    {
     "name": "stdout",
     "output_type": "stream",
     "text": [
      "a got to_b\n",
      "b got to_a\n",
      "c got to_c\n"
     ]
    }
   ],
   "source": [
    "def abc(a,b,c):\n",
    "    for i in ('a','b','c'):\n",
    "        print(i,\"got\",eval(i))\n",
    "\n",
    "abc('to_a', 'to_b', 'to_c') #we can  invoke the function abc using arguments as keywords\n"
   ]
  },
  {
   "cell_type": "code",
   "execution_count": 3,
   "metadata": {},
   "outputs": [
    {
     "name": "stdout",
     "output_type": "stream",
     "text": [
      "a got to_a\n",
      "b got to_b\n",
      "c got to_c\n"
     ]
    }
   ],
   "source": [
    "abc(b = 'to_b', c = 'to_c', a = 'to_a') \n",
    "#no matter the order of keywords"
   ]
  },
  {
   "cell_type": "markdown",
   "metadata": {},
   "source": [
    "###  if you want keyord-only arguments, put a `*` in the signature"
   ]
  },
  {
   "cell_type": "code",
   "execution_count": 5,
   "metadata": {},
   "outputs": [
    {
     "name": "stdout",
     "output_type": "stream",
     "text": [
      "a got to_a\n",
      "b got to_b\n",
      "c got to_c\n"
     ]
    }
   ],
   "source": [
    "def abc_keyword_only(*,a,b,c): \n",
    "    #no positional arguments, only keywords\n",
    "    #here keywords allowed are just the name of the variables\n",
    "    for i in ('a','b','c'):\n",
    "        print(i,\"got\",eval(i))\n",
    "\n",
    "#abc_keyword_only('to_a', 'to_b', 'to_c') # error\n",
    "abc_keyword_only(b = 'to_b', c = 'to_c', a = 'to_a')"
   ]
  },
  {
   "cell_type": "markdown",
   "metadata": {},
   "source": [
    "### default values"
   ]
  },
  {
   "cell_type": "code",
   "execution_count": 6,
   "metadata": {},
   "outputs": [
    {
     "name": "stdout",
     "output_type": "stream",
     "text": [
      "a got default_a\n",
      "b got to_b\n",
      "c got default_c\n"
     ]
    }
   ],
   "source": [
    "def abc_with_default(a='default_a',\n",
    "                     b='default_b',\n",
    "                     c='default_c'):\n",
    "    abc(a,b,c)\n",
    "    \n",
    "abc_with_default(b = 'to_b')"
   ]
  },
  {
   "cell_type": "markdown",
   "metadata": {},
   "source": [
    "### documentation"
   ]
  },
  {
   "cell_type": "code",
   "execution_count": 7,
   "metadata": {},
   "outputs": [
    {
     "name": "stdout",
     "output_type": "stream",
     "text": [
      "Help on function foo in module __main__:\n",
      "\n",
      "foo()\n",
      "    string documenting foo(). \n",
      "    accessible via help(foo)\n",
      "\n"
     ]
    }
   ],
   "source": [
    "def foo():\n",
    "    '''\n",
    "    string documenting foo(). \n",
    "    accessible via help(foo)\n",
    "    '''\n",
    "    pass\n",
    "#pass is used to not provide a definition\n",
    "#and avoid interpreter complain\n",
    "#this is the way to comment a lot of code of python\n",
    "help(foo)"
   ]
  },
  {
   "cell_type": "markdown",
   "metadata": {},
   "source": [
    "### function annotations"
   ]
  },
  {
   "cell_type": "code",
   "execution_count": 8,
   "metadata": {},
   "outputs": [],
   "source": [
    "def complicated_function(text:str, max_len:'int>0'=80) -> str:\n",
    "    '''documentation for complicated_function'''\n",
    "    pass #keyword pass, used in empty function\n",
    "#can be used when we want to provide an interface\n",
    "\n",
    "#text is supposed to be a string\n",
    "#max_len is supposed to be an integer\n",
    "#the function is supposed to return a string\n",
    "#they are just documentation features\n",
    "#no checking on arguments"
   ]
  },
  {
   "cell_type": "code",
   "execution_count": 9,
   "metadata": {},
   "outputs": [
    {
     "name": "stdout",
     "output_type": "stream",
     "text": [
      "Help on function complicated_function in module __main__:\n",
      "\n",
      "complicated_function(text: str, max_len: 'int>0' = 80) -> str\n",
      "    documentation for complicated_function\n",
      "\n"
     ]
    }
   ],
   "source": [
    "help(complicated_function)"
   ]
  },
  {
   "cell_type": "markdown",
   "metadata": {},
   "source": [
    "###  much more"
   ]
  },
  {
   "cell_type": "code",
   "execution_count": 10,
   "metadata": {},
   "outputs": [
    {
     "name": "stdout",
     "output_type": "stream",
     "text": [
      "__annotations__ is {'text': <class 'str'>, 'max_len': 'int>0', 'return': <class 'str'>}\n",
      "__call__ is <method-wrapper '__call__' of function object at 0x7f64442e6d08>\n",
      "__class__ is <class 'function'>\n",
      "__closure__ is None\n",
      "__code__ is <code object complicated_function at 0x7f64442dadb0, file \"<ipython-input-8-36760ea3deb7>\", line 1>\n",
      "__defaults__ is (80,)\n",
      "__delattr__ is <method-wrapper '__delattr__' of function object at 0x7f64442e6d08>\n",
      "__dict__ is {}\n",
      "__dir__ is <built-in method __dir__ of function object at 0x7f64442e6d08>\n",
      "__doc__ is documentation for complicated_function\n",
      "__eq__ is <method-wrapper '__eq__' of function object at 0x7f64442e6d08>\n",
      "__format__ is <built-in method __format__ of function object at 0x7f64442e6d08>\n",
      "__ge__ is <method-wrapper '__ge__' of function object at 0x7f64442e6d08>\n",
      "__get__ is <method-wrapper '__get__' of function object at 0x7f64442e6d08>\n",
      "__getattribute__ is <method-wrapper '__getattribute__' of function object at 0x7f64442e6d08>\n",
      "__globals__ is {'__name__': '__main__', '__doc__': 'Automatically created module for IPython interactive environment', '__package__': None, '__loader__': None, '__spec__': None, '__builtin__': <module 'builtins' (built-in)>, '__builtins__': <module 'builtins' (built-in)>, '_ih': ['', '#in c++ functions are functions and objects are objects\\n#in python everything is a object\\ndef hello():\\n    print(\"hello\")\\n#python knows that the function is over when it is not indented anymore\\n#sticky note hello put somewhere where the function hello is defined\\nprint(type(hello))\\n\\na = hello #now the sticky note of a is in the same place of the stixky note hello\\na() #and so now a is callable', 'def factorial(n):\\n    return 1 if n<2 else n * factorial(n-1)\\n\\nfactorial(77)', 'def abc(a,b,c):\\n    for i in (\\'a\\',\\'b\\',\\'c\\'):\\n        print(i,\"got\",eval(i))\\n\\nabc(\\'to_a\\', \\'to_b\\', \\'to_c\\')', \"abc(b = 'to_b', c = 'to_c', a = 'to_a') #no matter the order of keywords\", 'def abc_keyword_only(*,a,b,c): #no positional arguments, only keywords\\n    for i in (\\'a\\',\\'b\\',\\'c\\'):\\n        print(i,\"got\",eval(i))\\n\\n#abc_keyword_only(\\'to_a\\', \\'to_b\\', \\'to_c\\') # error\\nabc_keyword_only(b = \\'to_b\\', c = \\'to_c\\', a = \\'to_a\\')', \"def abc_with_default(a='default_a',\\n                     b='default_b',\\n                     c='default_c'):\\n    abc(a,b,c)\\n    \\nabc_with_default(b = 'to_b')\", \"def foo():\\n    '''\\n    string documenting foo(). \\n    accessible via help(foo)\\n    '''\\n    pass\\n\\nhelp(foo)\", \"def complicated_function(text:str, max_len:'int>0'=80) -> str:\\n    '''documentation for complicated_function'''\\n    pass #keyword pass, used in empty function\", 'help(complicated_function)', \"for i in dir(complicated_function):\\n    print(i,'is',eval('complicated_function.'+i))\"], '_oh': {2: 145183092028285869634070784086308284983740379224208358846781574688061991349156420080065207861248000000000000000000}, '_dh': ['/home/giai/Desktop/advanced_programming_2019-20/lectures/python/02_variables_and_functions'], 'In': ['', '#in c++ functions are functions and objects are objects\\n#in python everything is a object\\ndef hello():\\n    print(\"hello\")\\n#python knows that the function is over when it is not indented anymore\\n#sticky note hello put somewhere where the function hello is defined\\nprint(type(hello))\\n\\na = hello #now the sticky note of a is in the same place of the stixky note hello\\na() #and so now a is callable', 'def factorial(n):\\n    return 1 if n<2 else n * factorial(n-1)\\n\\nfactorial(77)', 'def abc(a,b,c):\\n    for i in (\\'a\\',\\'b\\',\\'c\\'):\\n        print(i,\"got\",eval(i))\\n\\nabc(\\'to_a\\', \\'to_b\\', \\'to_c\\')', \"abc(b = 'to_b', c = 'to_c', a = 'to_a') #no matter the order of keywords\", 'def abc_keyword_only(*,a,b,c): #no positional arguments, only keywords\\n    for i in (\\'a\\',\\'b\\',\\'c\\'):\\n        print(i,\"got\",eval(i))\\n\\n#abc_keyword_only(\\'to_a\\', \\'to_b\\', \\'to_c\\') # error\\nabc_keyword_only(b = \\'to_b\\', c = \\'to_c\\', a = \\'to_a\\')', \"def abc_with_default(a='default_a',\\n                     b='default_b',\\n                     c='default_c'):\\n    abc(a,b,c)\\n    \\nabc_with_default(b = 'to_b')\", \"def foo():\\n    '''\\n    string documenting foo(). \\n    accessible via help(foo)\\n    '''\\n    pass\\n\\nhelp(foo)\", \"def complicated_function(text:str, max_len:'int>0'=80) -> str:\\n    '''documentation for complicated_function'''\\n    pass #keyword pass, used in empty function\", 'help(complicated_function)', \"for i in dir(complicated_function):\\n    print(i,'is',eval('complicated_function.'+i))\"], 'Out': {2: 145183092028285869634070784086308284983740379224208358846781574688061991349156420080065207861248000000000000000000}, 'get_ipython': <bound method InteractiveShell.get_ipython of <ipykernel.zmqshell.ZMQInteractiveShell object at 0x7f64486a3550>>, 'exit': <IPython.core.autocall.ZMQExitAutocall object at 0x7f64443dd780>, 'quit': <IPython.core.autocall.ZMQExitAutocall object at 0x7f64443dd780>, '_': 145183092028285869634070784086308284983740379224208358846781574688061991349156420080065207861248000000000000000000, '__': '', '___': '', '_i': 'help(complicated_function)', '_ii': \"def complicated_function(text:str, max_len:'int>0'=80) -> str:\\n    '''documentation for complicated_function'''\\n    pass #keyword pass, used in empty function\", '_iii': \"def foo():\\n    '''\\n    string documenting foo(). \\n    accessible via help(foo)\\n    '''\\n    pass\\n\\nhelp(foo)\", '_i1': '#in c++ functions are functions and objects are objects\\n#in python everything is a object\\ndef hello():\\n    print(\"hello\")\\n#python knows that the function is over when it is not indented anymore\\n#sticky note hello put somewhere where the function hello is defined\\nprint(type(hello))\\n\\na = hello #now the sticky note of a is in the same place of the stixky note hello\\na() #and so now a is callable', 'hello': <function hello at 0x7f64442e62f0>, 'a': <function hello at 0x7f64442e62f0>, '_i2': 'def factorial(n):\\n    return 1 if n<2 else n * factorial(n-1)\\n\\nfactorial(77)', 'factorial': <function factorial at 0x7f64442e6950>, '_2': 145183092028285869634070784086308284983740379224208358846781574688061991349156420080065207861248000000000000000000, '_i3': 'def abc(a,b,c):\\n    for i in (\\'a\\',\\'b\\',\\'c\\'):\\n        print(i,\"got\",eval(i))\\n\\nabc(\\'to_a\\', \\'to_b\\', \\'to_c\\')', 'abc': <function abc at 0x7f64442e6840>, '_i4': \"abc(b = 'to_b', c = 'to_c', a = 'to_a') #no matter the order of keywords\", '_i5': 'def abc_keyword_only(*,a,b,c): #no positional arguments, only keywords\\n    for i in (\\'a\\',\\'b\\',\\'c\\'):\\n        print(i,\"got\",eval(i))\\n\\n#abc_keyword_only(\\'to_a\\', \\'to_b\\', \\'to_c\\') # error\\nabc_keyword_only(b = \\'to_b\\', c = \\'to_c\\', a = \\'to_a\\')', 'abc_keyword_only': <function abc_keyword_only at 0x7f64442e6a60>, '_i6': \"def abc_with_default(a='default_a',\\n                     b='default_b',\\n                     c='default_c'):\\n    abc(a,b,c)\\n    \\nabc_with_default(b = 'to_b')\", 'abc_with_default': <function abc_with_default at 0x7f64442e6f28>, '_i7': \"def foo():\\n    '''\\n    string documenting foo(). \\n    accessible via help(foo)\\n    '''\\n    pass\\n\\nhelp(foo)\", 'foo': <function foo at 0x7f64442e69d8>, '_i8': \"def complicated_function(text:str, max_len:'int>0'=80) -> str:\\n    '''documentation for complicated_function'''\\n    pass #keyword pass, used in empty function\", 'complicated_function': <function complicated_function at 0x7f64442e6d08>, '_i9': 'help(complicated_function)', '_i10': \"for i in dir(complicated_function):\\n    print(i,'is',eval('complicated_function.'+i))\", 'i': '__globals__'}\n",
      "__gt__ is <method-wrapper '__gt__' of function object at 0x7f64442e6d08>\n",
      "__hash__ is <method-wrapper '__hash__' of function object at 0x7f64442e6d08>\n",
      "__init__ is <method-wrapper '__init__' of function object at 0x7f64442e6d08>\n",
      "__init_subclass__ is <built-in method __init_subclass__ of type object at 0x820020>\n",
      "__kwdefaults__ is None\n",
      "__le__ is <method-wrapper '__le__' of function object at 0x7f64442e6d08>\n",
      "__lt__ is <method-wrapper '__lt__' of function object at 0x7f64442e6d08>\n",
      "__module__ is __main__\n",
      "__name__ is complicated_function\n",
      "__ne__ is <method-wrapper '__ne__' of function object at 0x7f64442e6d08>\n",
      "__new__ is <built-in method __new__ of type object at 0x820020>\n",
      "__qualname__ is complicated_function\n",
      "__reduce__ is <built-in method __reduce__ of function object at 0x7f64442e6d08>\n",
      "__reduce_ex__ is <built-in method __reduce_ex__ of function object at 0x7f64442e6d08>\n",
      "__repr__ is <method-wrapper '__repr__' of function object at 0x7f64442e6d08>\n",
      "__setattr__ is <method-wrapper '__setattr__' of function object at 0x7f64442e6d08>\n",
      "__sizeof__ is <built-in method __sizeof__ of function object at 0x7f64442e6d08>\n",
      "__str__ is <method-wrapper '__str__' of function object at 0x7f64442e6d08>\n",
      "__subclasshook__ is <built-in method __subclasshook__ of type object at 0x820020>\n"
     ]
    }
   ],
   "source": [
    "for i in dir(complicated_function):\n",
    "    print(i,'is',eval('complicated_function.'+i))"
   ]
  }
 ],
 "metadata": {
  "kernelspec": {
   "display_name": "Python 3",
   "language": "python",
   "name": "python3"
  },
  "language_info": {
   "codemirror_mode": {
    "name": "ipython",
    "version": 3
   },
   "file_extension": ".py",
   "mimetype": "text/x-python",
   "name": "python",
   "nbconvert_exporter": "python",
   "pygments_lexer": "ipython3",
   "version": "3.7.4"
  }
 },
 "nbformat": 4,
 "nbformat_minor": 4
}
