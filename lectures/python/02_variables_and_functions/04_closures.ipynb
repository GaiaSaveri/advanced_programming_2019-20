{
 "cells": [
  {
   "cell_type": "markdown",
   "metadata": {},
   "source": [
    "###  free variables (aka nonlocal variables)"
   ]
  },
  {
   "cell_type": "code",
   "execution_count": 2,
   "metadata": {},
   "outputs": [],
   "source": [
    "#since functions are objects in python\n",
    "#when we invoke a function we are actually calling\n",
    "#a method for an object\n",
    "\n",
    "#before the calling it the object must be created\n",
    "#then the function is parsed\n",
    "\n",
    "def inspect_vars(o): \n",
    "    for i in ('co_varnames', 'co_freevars'):\n",
    "        print(i, eval('o.__code__.'+i))\n",
    "\n",
    "#__code__ has attributes co_varnames\n",
    "#and co_freevars\n",
    "#represent the compiled body of the function\n",
    "\n",
    "#o is an object"
   ]
  },
  {
   "cell_type": "code",
   "execution_count": 2,
   "metadata": {},
   "outputs": [
    {
     "name": "stdout",
     "output_type": "stream",
     "text": [
      "9.0\n",
      "10.0\n",
      "20.0\n"
     ]
    }
   ],
   "source": [
    "def maker():\n",
    "    so_far=[] #local variable of maker\n",
    "    #it is a free variable\n",
    "    def avg(new_value): \n",
    "        so_far.append(new_value)\n",
    "        return sum(so_far)/len(so_far) #average of what I get so far\n",
    "    return avg \n",
    "#in python it is a common pratice to define nested functions\n",
    "av = maker() #maker returns the sticky note of the function average\n",
    "print(av(9))\n",
    "print(av(11))\n",
    "print(av(40))"
   ]
  },
  {
   "cell_type": "code",
   "execution_count": 3,
   "metadata": {},
   "outputs": [
    {
     "name": "stdout",
     "output_type": "stream",
     "text": [
      "co_varnames ('new_value',)\n",
      "co_freevars ('so_far',)\n"
     ]
    }
   ],
   "source": [
    "inspect_vars(av)\n",
    "#av is a function object\n",
    "\n",
    "#so_far is a free variable\n",
    "#not bound in the local scope"
   ]
  },
  {
   "cell_type": "code",
   "execution_count": 3,
   "metadata": {},
   "outputs": [
    {
     "ename": "UnboundLocalError",
     "evalue": "local variable '_sum' referenced before assignment",
     "output_type": "error",
     "traceback": [
      "\u001b[0;31m---------------------------------------------------------------------------\u001b[0m",
      "\u001b[0;31mUnboundLocalError\u001b[0m                         Traceback (most recent call last)",
      "\u001b[0;32m<ipython-input-3-14a48053677c>\u001b[0m in \u001b[0;36m<module>\u001b[0;34m\u001b[0m\n\u001b[1;32m      9\u001b[0m \u001b[0;31m#integrs are immutable\u001b[0m\u001b[0;34m\u001b[0m\u001b[0;34m\u001b[0m\u001b[0;34m\u001b[0m\u001b[0m\n\u001b[1;32m     10\u001b[0m \u001b[0mav\u001b[0m \u001b[0;34m=\u001b[0m \u001b[0mmaker_buggy\u001b[0m\u001b[0;34m(\u001b[0m\u001b[0;34m)\u001b[0m\u001b[0;34m\u001b[0m\u001b[0;34m\u001b[0m\u001b[0m\n\u001b[0;32m---> 11\u001b[0;31m \u001b[0mav\u001b[0m\u001b[0;34m(\u001b[0m\u001b[0;36m9\u001b[0m\u001b[0;34m)\u001b[0m\u001b[0;34m\u001b[0m\u001b[0;34m\u001b[0m\u001b[0m\n\u001b[0m",
      "\u001b[0;32m<ipython-input-3-14a48053677c>\u001b[0m in \u001b[0;36mavg\u001b[0;34m(new_value)\u001b[0m\n\u001b[1;32m      3\u001b[0m     \u001b[0m_count\u001b[0m \u001b[0;34m=\u001b[0m \u001b[0;36m0\u001b[0m\u001b[0;34m\u001b[0m\u001b[0;34m\u001b[0m\u001b[0m\n\u001b[1;32m      4\u001b[0m     \u001b[0;32mdef\u001b[0m \u001b[0mavg\u001b[0m\u001b[0;34m(\u001b[0m\u001b[0mnew_value\u001b[0m\u001b[0;34m)\u001b[0m\u001b[0;34m:\u001b[0m\u001b[0;34m\u001b[0m\u001b[0;34m\u001b[0m\u001b[0m\n\u001b[0;32m----> 5\u001b[0;31m         \u001b[0m_sum\u001b[0m \u001b[0;34m+=\u001b[0m \u001b[0mnew_value\u001b[0m\u001b[0;34m\u001b[0m\u001b[0;34m\u001b[0m\u001b[0m\n\u001b[0m\u001b[1;32m      6\u001b[0m         \u001b[0m_count\u001b[0m \u001b[0;34m+=\u001b[0m \u001b[0;36m1\u001b[0m\u001b[0;34m\u001b[0m\u001b[0;34m\u001b[0m\u001b[0m\n\u001b[1;32m      7\u001b[0m         \u001b[0;32mreturn\u001b[0m \u001b[0m_sum\u001b[0m\u001b[0;34m/\u001b[0m\u001b[0m_count\u001b[0m\u001b[0;34m\u001b[0m\u001b[0;34m\u001b[0m\u001b[0m\n",
      "\u001b[0;31mUnboundLocalError\u001b[0m: local variable '_sum' referenced before assignment"
     ]
    }
   ],
   "source": [
    "def maker_buggy():\n",
    "    _sum = 0 #instead of storing all the elements\n",
    "    _count = 0\n",
    "    def avg(new_value):\n",
    "        _sum += new_value\n",
    "        _count += 1\n",
    "        return _sum/_count\n",
    "    return avg\n",
    "#integrs are immutable\n",
    "av = maker_buggy()\n",
    "av(9)\n",
    "\n",
    "#we are assigning to count and sum\n",
    "#inside avg\n",
    "#and that makes them local to avg\n",
    "#(count and sum are immutable)\n",
    "#before we took advantage of the fact that lists\n",
    "#are mutable"
   ]
  },
  {
   "cell_type": "code",
   "execution_count": 5,
   "metadata": {},
   "outputs": [
    {
     "name": "stdout",
     "output_type": "stream",
     "text": [
      "co_varnames ('new_value', '_sum', '_count')\n",
      "co_freevars ()\n"
     ]
    }
   ],
   "source": [
    "inspect_vars(av)\n"
   ]
  },
  {
   "cell_type": "code",
   "execution_count": 6,
   "metadata": {},
   "outputs": [
    {
     "name": "stdout",
     "output_type": "stream",
     "text": [
      "9.0\n",
      "10.0\n",
      "20.0\n"
     ]
    }
   ],
   "source": [
    "def maker_right():\n",
    "    _sum = 0\n",
    "    _count = 0\n",
    "    def avg(new_value):\n",
    "        nonlocal _sum,_count #in order to fix the bug before\n",
    "        _sum += new_value\n",
    "        _count += 1\n",
    "        return _sum/_count\n",
    "    return avg\n",
    "#the purpose of this function is to have a \n",
    "#callable object\n",
    "av = maker_right() #av is an avg object\n",
    "#cannot directly call maker_right with args\n",
    "print(av(9))\n",
    "print(av(11))\n",
    "print(av(40))\n"
   ]
  },
  {
   "cell_type": "code",
   "execution_count": null,
   "metadata": {},
   "outputs": [],
   "source": [
    "#global: variable declared outside a function\n",
    "#or in global scope\n",
    "#can be accessed inside or outside the function\n",
    "\n",
    "#local variable: veriable declared inside the\n",
    "#function's body\n",
    "\n",
    "#nonlocal variables are used in nested functions\n"
   ]
  },
  {
   "cell_type": "code",
   "execution_count": null,
   "metadata": {},
   "outputs": [],
   "source": [
    "inspect_vars(av)"
   ]
  },
  {
   "cell_type": "markdown",
   "metadata": {},
   "source": [
    "### closure\n",
    "A closure is a function that retains the bindings of the free variables that exist when the function is defined, so that they can be used later when the function is invoked and the **defining scope** is no longer available."
   ]
  },
  {
   "cell_type": "code",
   "execution_count": null,
   "metadata": {},
   "outputs": [],
   "source": [
    "#a closure is a function with an extended scope\n",
    "#that encompasses nonglobal variables\n",
    "#referenced in the body of the function\n",
    "#but not defined there\n",
    "\n",
    "#can access nonglobal variables defined outside \n",
    "#of its body"
   ]
  }
 ],
 "metadata": {
  "kernelspec": {
   "display_name": "Python 3",
   "language": "python",
   "name": "python3"
  },
  "language_info": {
   "codemirror_mode": {
    "name": "ipython",
    "version": 3
   },
   "file_extension": ".py",
   "mimetype": "text/x-python",
   "name": "python",
   "nbconvert_exporter": "python",
   "pygments_lexer": "ipython3",
   "version": "3.7.4"
  }
 },
 "nbformat": 4,
 "nbformat_minor": 4
}
