{
 "cells": [
  {
   "cell_type": "markdown",
   "metadata": {},
   "source": [
    "## Exercises 02"
   ]
  },
  {
   "cell_type": "markdown",
   "metadata": {},
   "source": [
    "### Lambda"
   ]
  },
  {
   "cell_type": "code",
   "execution_count": 17,
   "metadata": {},
   "outputs": [],
   "source": [
    "def reverse(str):\n",
    "    l = str.split()\n",
    "    return sorted(l, key=lambda x: x[-1])"
   ]
  },
  {
   "cell_type": "code",
   "execution_count": 22,
   "metadata": {},
   "outputs": [
    {
     "name": "stdout",
     "output_type": "stream",
     "text": [
      "['gaia', 'name', 'is', 'my']\n",
      "['a', 'is', 'cat', 'amy']\n",
      "['complicated', 'sentence', 'convince', 'myself', 'function', 'to', 'this', 'works', 'that', 'very']\n"
     ]
    }
   ],
   "source": [
    "#test\n",
    "print(reverse(\"my name is gaia\"))\n",
    "print(reverse(\"amy is a cat\"))\n",
    "print(reverse(\"very complicated sentence to convince myself that this function works\"))"
   ]
  },
  {
   "cell_type": "markdown",
   "metadata": {},
   "source": [
    "### Sequence"
   ]
  },
  {
   "cell_type": "code",
   "execution_count": 47,
   "metadata": {},
   "outputs": [],
   "source": [
    "class Sequence():\n",
    "    def __init__(self, l=None): \n",
    "        if list is None:\n",
    "            self.l = []\n",
    "        else:\n",
    "            self.l = list(l)\n",
    "        \n",
    "    def __str__(self):\n",
    "        return str(format(self.l))\n",
    "    \n",
    "    def __len__(self):\n",
    "        return len(self.l)\n",
    "    \n",
    "    def __eq__ (self, other):\n",
    "        return (self.l)==(other.l)\n",
    "    \n",
    "    def __getitem__(self, key):\n",
    "        return self.l[key]\n",
    "    \n",
    "    def __setitem__(self, key, data):\n",
    "        self.l[key]=data\n",
    "    \n",
    "    def __delitem__(self, lst):\n",
    "        del self.l[lst]\n",
    "        \n",
    "    def __iter__(self):\n",
    "        return iter(self.l)\n",
    "    \n",
    "    def insert(self, key, data):\n",
    "        self.l.insert(key,data)\n",
    "        \n",
    "    def append(self, key):\n",
    "        self.l.append(key)\n",
    "        \n",
    "    def __copy__(self):\n",
    "        from copy import deepcopy \n",
    "        return Sequence(deepcopy(self.l))"
   ]
  },
  {
   "cell_type": "code",
   "execution_count": 49,
   "metadata": {},
   "outputs": [
    {
     "name": "stdout",
     "output_type": "stream",
     "text": [
      "[0, 1, 2, 3, 4, 5, 6, 7, 8, 9]\n",
      "10\n",
      "False\n",
      "True\n",
      "9\n",
      "[1, 1, 2, 3, 4, 5, 6, 7, 8, 9]\n",
      "[1, 2, 4, 5, 6, 7, 8, 9]\n",
      "2\n",
      "6\n",
      "9\n",
      "[1, 2, 1, 4, 5, 6, 7, 8, 9]\n",
      "[1, 2, 1, 4, 5, 6, 7, 8, 9, 42]\n",
      "[0, 1, 2, 3, 4, 5, 6, 7, 8, 9]\n"
     ]
    }
   ],
   "source": [
    "#test\n",
    "s = Sequence(range(10))\n",
    "print(s)\n",
    "print(len(s))\n",
    "t = Sequence([2, 3])\n",
    "print(s == t)\n",
    "q = Sequence([0, 1, 2, 3, 4, 5, 6, 7, 8, 9])\n",
    "print(s==q)\n",
    "print(s[-1])\n",
    "s[0]=1\n",
    "#s[1]=15\n",
    "print(s)\n",
    "del s[1:4:2]\n",
    "print(s)\n",
    "for x in s[1:len(s):3]:\n",
    "    print(x)\n",
    "s.insert(2,1)\n",
    "print(s)\n",
    "s.append(42)\n",
    "print(s)\n",
    "\n",
    "r = copy.copy(q)\n",
    "print(r)"
   ]
  }
 ],
 "metadata": {
  "kernelspec": {
   "display_name": "Python 3",
   "language": "python",
   "name": "python3"
  },
  "language_info": {
   "codemirror_mode": {
    "name": "ipython",
    "version": 3
   },
   "file_extension": ".py",
   "mimetype": "text/x-python",
   "name": "python",
   "nbconvert_exporter": "python",
   "pygments_lexer": "ipython3",
   "version": "3.7.4"
  }
 },
 "nbformat": 4,
 "nbformat_minor": 4
}
