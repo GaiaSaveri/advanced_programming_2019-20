{
 "cells": [
  {
   "cell_type": "markdown",
   "metadata": {},
   "source": [
    "## Exercises 03"
   ]
  },
  {
   "cell_type": "code",
   "execution_count": 12,
   "metadata": {},
   "outputs": [],
   "source": [
    "def myrange(*args):\n",
    "    '''function that acts like range'''\n",
    "    num_args = len(args)\n",
    "    if num_args not in [1,2,3] :\n",
    "       raise TypeError(\"wrong number of args\") \n",
    "    if num_args == 1: \n",
    "        return range(args[0])\n",
    "    elif num_args == 2:\n",
    "        return range(args[0],args[1])\n",
    "    elif num_args == 3:\n",
    "        return range(args[0], args[1], args[2])\n",
    "        "
   ]
  },
  {
   "cell_type": "code",
   "execution_count": 16,
   "metadata": {},
   "outputs": [],
   "source": [
    "class Myrange():\n",
    "    '''class decorator that acts like range'''\n",
    "    def __init__(self, func):\n",
    "        self._func = func\n",
    "    def __call__(self, *args):\n",
    "        num_args = len(args)\n",
    "        if num_args not in [1,2,3]:\n",
    "            raise TypeError(\"wrong number of args\")\n",
    "        result = self._func(*args)\n",
    "        return result"
   ]
  },
  {
   "cell_type": "code",
   "execution_count": 18,
   "metadata": {},
   "outputs": [],
   "source": [
    "@Myrange\n",
    "def decorated_range(*args):\n",
    "    return range(*args)"
   ]
  },
  {
   "cell_type": "code",
   "execution_count": 58,
   "metadata": {},
   "outputs": [],
   "source": [
    "import time\n",
    "class Timer:\n",
    "    '''context manager that times a portion of code'''\n",
    "    def __enter__(self):\n",
    "        self.start = time.perf_counter()\n",
    "        \n",
    "    def __exit__(self, exc_time, exc_valu, traceback):\n",
    "        self.stop = time.perf_counter()\n",
    "        print(\"Execution time\", self.stop-self.start, \"s\")"
   ]
  },
  {
   "cell_type": "code",
   "execution_count": 13,
   "metadata": {},
   "outputs": [
    {
     "name": "stderr",
     "output_type": "stream",
     "text": [
      "...\n",
      "----------------------------------------------------------------------\n",
      "Ran 3 tests in 0.004s\n",
      "\n",
      "OK\n"
     ]
    }
   ],
   "source": [
    "import unittest\n",
    "\n",
    "class Testfunc(unittest.TestCase):\n",
    "    def test_min_arg(self):\n",
    "        with self.assertRaises(TypeError):\n",
    "            myrange()\n",
    "    def test_max_arg(self):\n",
    "        with self.assertRaises(TypeError):\n",
    "            myrange(1,2,3,12)\n",
    "    def test_behaviour(self):\n",
    "        self.assertEqual(range(10), myrange(10))\n",
    "        self.assertEqual(range(0,10), myrange(0,10))\n",
    "        self.assertEqual(range(0,10,2), myrange(0,10,2))\n",
    "        \n",
    "if __name__ == '__main__':\n",
    "    unittest.main(argv=['first-arg-is-ignored'], exit=False)"
   ]
  },
  {
   "cell_type": "code",
   "execution_count": 19,
   "metadata": {},
   "outputs": [
    {
     "name": "stderr",
     "output_type": "stream",
     "text": [
      "......\n",
      "----------------------------------------------------------------------\n",
      "Ran 6 tests in 0.014s\n",
      "\n",
      "OK\n"
     ]
    }
   ],
   "source": [
    "class Testclass(unittest.TestCase):\n",
    "    def test_min_arg(self):\n",
    "        with self.assertRaises(TypeError):\n",
    "            decorated_range()\n",
    "    def test_max_arg(self):\n",
    "        with self.assertRaises(TypeError):\n",
    "            decorated_range(1,2,3,12)\n",
    "    def test_behaviour(self):\n",
    "        self.assertEqual(range(10), decorated_range(10))\n",
    "        self.assertEqual(range(0,10), decorated_range(0,10))\n",
    "        self.assertEqual(range(0,10,2), decorated_range(0,10,2))\n",
    "        \n",
    "if __name__ == '__main__':\n",
    "    unittest.main(argv=['first-arg-is-ignored'], exit=False)"
   ]
  }
 ],
 "metadata": {
  "kernelspec": {
   "display_name": "Python 3",
   "language": "python",
   "name": "python3"
  },
  "language_info": {
   "codemirror_mode": {
    "name": "ipython",
    "version": 3
   },
   "file_extension": ".py",
   "mimetype": "text/x-python",
   "name": "python",
   "nbconvert_exporter": "python",
   "pygments_lexer": "ipython3",
   "version": "3.7.4"
  }
 },
 "nbformat": 4,
 "nbformat_minor": 4
}
